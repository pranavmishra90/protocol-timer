{
 "cells": [
  {
   "attachments": {},
   "cell_type": "markdown",
   "metadata": {},
   "source": [
    "# Protocol timer"
   ]
  },
  {
   "attachments": {},
   "cell_type": "markdown",
   "metadata": {},
   "source": [
    "## Initialization"
   ]
  },
  {
   "attachments": {},
   "cell_type": "markdown",
   "metadata": {},
   "source": [
    "### Load Libraries"
   ]
  },
  {
   "cell_type": "code",
   "execution_count": null,
   "metadata": {},
   "outputs": [],
   "source": [
    "from IPython.core.getipython import get_ipython\n",
    "from IPython.display import display, Markdown, Latex\n",
    "import pandas as pd\n",
    "from time import time, sleep\n",
    "from tqdm.notebook import tqdm\n",
    "from tqdm import trange\n",
    "import datetime\n",
    "import requests\n",
    "import json\n",
    "\n",
    "# from tqdm.contrib.telegram import tqdm, trange\n",
    "from configparser import ConfigParser\n",
    "\n",
    "\n",
    "from timer_functions import *"
   ]
  },
  {
   "cell_type": "code",
   "execution_count": null,
   "metadata": {},
   "outputs": [],
   "source": [
    "parser = ConfigParser()\n",
    "\n",
    "_ = parser.read('token.secrets')\n",
    "\n",
    "api_token = parser.get('discord', 'bot_token')\n",
    "\n",
    "channel_id = parser.get('discord', 'channel_id')\n",
    "\n",
    "webhook_url = parser.get('discord', 'webhook')"
   ]
  },
  {
   "cell_type": "code",
   "execution_count": null,
   "metadata": {},
   "outputs": [],
   "source": [
    "# Define functions used in this notebook\n",
    "def create_new_cell(contents):\n",
    "    shell = get_ipython()\n",
    "\n",
    "    payload = dict(\n",
    "        source='set_next_input',\n",
    "        text=contents,\n",
    "        replace=False,\n",
    "    )\n",
    "    shell.payload_manager.write_payload(payload, single=False)\n",
    "    \n",
    "def calculate_seconds(timestring):\n",
    "    time_obj = datetime.datetime.strptime(timestring, \"%H:%M:%S\")\n",
    "    hours = time_obj.hour\n",
    "    minutes = time_obj.minute\n",
    "    seconds = time_obj.second\n",
    "\n",
    "    # Calculate the total number of seconds\n",
    "    total_seconds = hours * 3600 + minutes * 60 + seconds\n",
    "    \n",
    "\n",
    "    return total_seconds\n",
    "\n",
    "def step_commands(df, index_num):\n",
    "    line1 = f\"print('**{df.Combined.iloc[index_num]}**')\"\n",
    "    total_seconds = calculate_seconds(df.Duration.iloc[index_num])\n",
    "\n",
    "    line2 = f\"print('Duration is {round(total_seconds/60, 3)} minutes')\"\n",
    "\n",
    "    line3 = f\"countdown(df.Duration.iloc[{index_num}], df.Combined.iloc[{index_num}])\"\n",
    "\n",
    "    combined_lines = line1 + \" \\n\" + line2 + \" \\n\" + line3 \n",
    "\n",
    "    return combined_lines\n",
    "\n",
    "\n",
    "def countdown(timestring, step_text):\n",
    "    time_obj = datetime.datetime.strptime(timestring, \"%H:%M:%S\")\n",
    "\n",
    "    hours = time_obj.hour\n",
    "    minutes = time_obj.minute\n",
    "    seconds = time_obj.second\n",
    "\n",
    "    # Calculate the total number of seconds\n",
    "    total_seconds = hours * 3600 + minutes * 60 + seconds\n",
    "\n",
    "    # While loop that checks if total_seconds reaches zero\n",
    "    # If not zero, decrement total time by one second\n",
    "    total_seconds_original = total_seconds\n",
    "\n",
    "    pbar = tqdm(\n",
    "        # total=100,\n",
    "        total=total_seconds,\n",
    "        bar_format=\"{desc}   {percentage:3.0f}% [Elapsed: {elapsed} -- Remaining: {remaining}]\",\n",
    "        \n",
    "    )\n",
    "    while total_seconds > 0:\n",
    "        # # Timer represents time left on countdown\n",
    "        timer = datetime.timedelta(seconds=total_seconds)\n",
    "\n",
    "\n",
    "        # print(timer, sep='\\r')\n",
    "\n",
    "\n",
    "        # Update the tqdm progress bar\n",
    "        # pbar.update(100 / total_seconds_original)\n",
    "\n",
    "        sleep(1)\n",
    "\n",
    "        total_seconds -= 1\n",
    "        pbar.update(1)\n",
    "\n",
    "\n",
    "\n",
    "    pbar.refresh()\n",
    "    display(f\"COMPLETED {step_text}\")\n",
    "    send_discord_message(f\"COMPLETED {step_text} in {step_text}\")\n",
    "    \n",
    "def send_discord_message(content):\n",
    "    payload = {\n",
    "        \"content\": content\n",
    "    }\n",
    "    headers = {\n",
    "        \"Content-Type\": \"application/json\"\n",
    "    }\n",
    "\n",
    "    response = requests.post(webhook_url, data=json.dumps(payload), headers=headers)\n",
    "\n",
    "    if response.status_code == 204:\n",
    "        print(\"Discord notification successful!\")\n",
    "    else:\n",
    "        print(f\"Failed to notify on discord. Status code: {response.status_code}\")\n",
    "\n",
    "\n",
    "def current_datetime():\n",
    "    current_datetime = datetime.datetime.now()\n",
    "\n",
    "    # Format the datetime as \"Day, mm/dd/yy at hh:mm:ss AM/PM\"\n",
    "    formatted_datetime = current_datetime.strftime(\"%A, %m/%d/%y at %I:%M:%S %p\")\n",
    "\n",
    "    return formatted_datetime\n"
   ]
  },
  {
   "attachments": {},
   "cell_type": "markdown",
   "metadata": {},
   "source": [
    "## Import the protocol and format the dataframe"
   ]
  },
  {
   "cell_type": "code",
   "execution_count": null,
   "metadata": {},
   "outputs": [],
   "source": [
    "df = pd.read_csv('./protocol.csv')\n",
    "\n",
    "#flip the dataframe since a new \"step\" is always inserted immediately after the currently running one (new cells end up in reverse order)\n",
    "df = df.iloc[::-1].reset_index()\n",
    "df.drop(columns='index', inplace=True)\n",
    "\n",
    "df['Combined'] = \"Step \"+ df['Step Number'].astype(str) + \": \" + df['Step Text'].astype(str)\n",
    "\n",
    "df = df.astype({'Step Number': 'int', 'Step Text': 'string', 'Duration': 'string', 'Combined': 'string'})\n",
    "\n",
    "# display(df)"
   ]
  },
  {
   "attachments": {},
   "cell_type": "markdown",
   "metadata": {},
   "source": [
    "## Your Protocol\n",
    "**Instructions**\n",
    "A cell has been created for each step of your protocol according to the durations specified. When you \"run\" a cell, a progress bar will appear, with a timer for the elapsed time and a time remaining countdown.\n",
    "\n",
    "After the timer runs out, a completed message will be displayed.\n",
    "\n",
    "### Run the next cell *once*"
   ]
  },
  {
   "cell_type": "code",
   "execution_count": null,
   "metadata": {},
   "outputs": [],
   "source": [
    "create_new_cell(\"#------ End of protocol ------# \\n #When you have reached this point, you can delete all of the protocol steps which have been created, or simply close this file without saving\")\n",
    "\n",
    "create_new_cell('send_discord_message(f\"---- PROTOCOL COMPLETE at {current_datetime()} ----\")')\n",
    "\n",
    "for row in df.index:\n",
    "    all_in_one = step_commands(df, row)\n",
    "    \n",
    "    create_new_cell(all_in_one)\n",
    "\n",
    "display(Markdown('## Start the protocol\\n**When you are ready to begin, run the cell below**'))\n",
    "\n",
    "create_new_cell('send_discord_message(f\"---- STARTING PROTOCOL at {current_datetime()} ----\")')\n",
    "\n",
    "create_new_cell(\"#------ Click here, then run each cells below ------#\")"
   ]
  }
 ],
 "metadata": {
  "kernelspec": {
   "display_name": "base",
   "language": "python",
   "name": "python3"
  },
  "language_info": {
   "codemirror_mode": {
    "name": "ipython",
    "version": 3
   },
   "file_extension": ".py",
   "mimetype": "text/x-python",
   "name": "python",
   "nbconvert_exporter": "python",
   "pygments_lexer": "ipython3",
   "version": "3.11.4"
  },
  "orig_nbformat": 4,
  "vscode": {
   "interpreter": {
    "hash": "f240ef9210770de62a103ed9efe3828a4a2208dd13f05a72145b82e58b2a9c12"
   }
  }
 },
 "nbformat": 4,
 "nbformat_minor": 2
}
