{
 "cells": [
  {
   "attachments": {},
   "cell_type": "markdown",
   "metadata": {},
   "source": [
    "# Protocol timer\n",
    "\n",
    "This is the protocol timer base. It uses a `.csv` source file to dynamically build a protocol. The steps are then sent to a self-hosted Matrix-based chatroom (closed source alternative: Discord) using an HTTP webhook. The protocol can be sequentially automatically by using the `Excecute cell and below` button on VSCode. If you need time to prepare between steps, you can use the `Execute Cell` button to start the timer for only a single step, advancing one step at a time."
   ]
  },
  {
   "attachments": {},
   "cell_type": "markdown",
   "metadata": {},
   "source": [
    "## Initialization"
   ]
  },
  {
   "attachments": {},
   "cell_type": "markdown",
   "metadata": {},
   "source": [
    "### Load Libraries"
   ]
  },
  {
   "cell_type": "code",
   "execution_count": 12,
   "metadata": {},
   "outputs": [],
   "source": [
    "from IPython.core.getipython import get_ipython\n",
    "from IPython.display import display, Markdown, Latex\n",
    "import pandas as pd\n",
    "from time import time, sleep\n",
    "from tqdm.notebook import tqdm\n",
    "from tqdm import trange\n",
    "import datetime as date\n",
    "import requests\n",
    "import json\n",
    "import os\n",
    "import markdown\n",
    "import re\n",
    "\n",
    "# from tqdm.contrib.telegram import tqdm, trange\n",
    "from configparser import ConfigParser\n",
    "\n",
    "\n",
    "# from timer_functions import *"
   ]
  },
  {
   "cell_type": "code",
   "execution_count": 13,
   "metadata": {},
   "outputs": [],
   "source": [
    "if os.path.exists(\"token.secrets\"):\n",
    "\tparser = ConfigParser()\n",
    "\t_ = parser.read('token.secrets')\n",
    "\tchannel_id = parser.get('discord', 'channel_id')\n",
    "\twebhook_url = parser.get('discord', 'webhook')\n",
    "\tmatrix_webhook_url = parser.get('matrix', 'webhook')\n",
    "\n",
    "else:\n",
    "\tchannel_id = os.getenv(\"CHANNEL_ID\")\n",
    "\twebhook_url = os.getenv(\"DISCORD_WEBHOOK\")\n",
    "\tmatrix_webhook_url = os.getenv(\"MATRIX_WEBHOOK\")"
   ]
  },
  {
   "cell_type": "code",
   "execution_count": 14,
   "metadata": {},
   "outputs": [],
   "source": [
    "# Adjust for timezone\n",
    "\n",
    "# America/Chicago == -6; -5 during DST\n",
    "timezone_offset = -5.0"
   ]
  },
  {
   "cell_type": "code",
   "execution_count": 15,
   "metadata": {
    "notebookRunGroups": {
     "groupValue": "1"
    }
   },
   "outputs": [],
   "source": [
    "# Define functions used in this notebook\n",
    "def calculate_seconds(timestring):\n",
    "    time_obj = date.datetime.strptime(timestring, \"%H:%M:%S\")\n",
    "    hours = time_obj.hour\n",
    "    minutes = time_obj.minute\n",
    "    seconds = time_obj.second\n",
    "\n",
    "    # Calculate the total number of seconds\n",
    "    total_seconds = hours * 3600 + minutes * 60 + seconds\n",
    "\n",
    "    return total_seconds\n",
    "\n",
    "\n",
    "def step_commands(df, index_num):\n",
    "    line1 = f\"print('**{df.Combined.iloc[index_num]}**')\"\n",
    "    total_seconds = calculate_seconds(df.Duration.iloc[index_num])\n",
    "\n",
    "    line2 = f\"print('Duration is {round(total_seconds/60, 3)} minutes')\"\n",
    "\n",
    "    line3 = f\"countdown(df.Duration.iloc[{index_num}], df.Combined.iloc[{index_num}], df.Duration.iloc[{index_num}])\"\n",
    "\n",
    "    combined_lines = line1 + \" \\n\" + line2 + \" \\n\" + line3\n",
    "\n",
    "    return combined_lines\n",
    "\n",
    "def get_protocol_description(protocol_csv_path):\n",
    "    file_name = os.path.basename(protocol_csv_path)\n",
    "    file_name_without_extension = os.path.splitext(file_name)[0]\n",
    "\n",
    "    # Creating the description variable with \"md\" extension\n",
    "    description_path = os.path.join(os.path.dirname(protocol_csv_path), f'{file_name_without_extension}.md')\n",
    "\n",
    "    # Read the Markdown content from the file\n",
    "    with open(description_path, 'r', encoding='utf-8') as file:\n",
    "        markdown_content = file.read()\n",
    "\n",
    "    # Convert Markdown to HTML\n",
    "    html_content = markdown.markdown(markdown_content)\n",
    "\n",
    "    # Compress HTML into a single-line string\n",
    "    html_description = re.sub('\\s+', ' ', html_content).strip()\n",
    "\n",
    "    return html_description\n",
    "\n",
    "\n",
    "\n",
    "def countdown(timestring, step_text, duration):\n",
    "\n",
    "    # Display / send messages\n",
    "    display(f\"Starting {step_text}\") # to console\n",
    "    # send_discord_message(f\"Starting {step_text}.\") # Discord\n",
    "    send_matrix_protocol_step(step_text, duration) # Matrix\n",
    "\n",
    "\n",
    "\n",
    "\n",
    "    time_obj = date.datetime.strptime(timestring, \"%H:%M:%S\")\n",
    "\n",
    "    hours = time_obj.hour\n",
    "    minutes = time_obj.minute\n",
    "    seconds = time_obj.second\n",
    "\n",
    "    # Calculate the total number of seconds\n",
    "    total_seconds = hours * 3600 + minutes * 60 + seconds\n",
    "\n",
    "    # While loop that checks if total_seconds reaches zero\n",
    "    # If not zero, decrement total time by one second\n",
    "    total_seconds_original = total_seconds\n",
    "\n",
    "    pbar = tqdm(\n",
    "        # total=100,\n",
    "        total=total_seconds,\n",
    "        bar_format=\"{desc}   {percentage:3.0f}% [Elapsed: {elapsed} -- Remaining: {remaining}]\",\n",
    "    )\n",
    "    while total_seconds > 0:\n",
    "        # # Timer represents time left on countdown\n",
    "        timer = date.timedelta(seconds=total_seconds)\n",
    "\n",
    "        # print(timer, sep='\\r')\n",
    "\n",
    "        # Update the tqdm progress bar\n",
    "        # pbar.update(100 / total_seconds_original)\n",
    "\n",
    "        sleep(1)\n",
    "\n",
    "        total_seconds -= 1\n",
    "        pbar.update(1)\n",
    "\n",
    "    pbar.refresh()\n",
    "\n",
    "\n",
    "    # Display / Send completed messages\n",
    "    display(f\"COMPLETED {step_text}\")\n",
    "\n",
    "    # send_discord_message(f\"COMPLETED {step_text}.\") # Discord\n",
    "\n",
    "\n",
    "def compose_discord_json(message):\n",
    "    json_payload = {\n",
    "        \"content\": message,\n",
    "        \"username\": \"Protocol Timer\",\n",
    "        \"avatar_url\": \"https://raw.githubusercontent.com/github/explore/149e057770c384ddaba0393b369c2c8f16e433bb/topics/jupyter-notebook/jupyter-notebook.png\",\n",
    "        \"tts\": True,\n",
    "        \"embeds\": [\n",
    "            {\n",
    "                \"title\": \"Protocol Timer\",\n",
    "                \"type\": \"rich\",\n",
    "                \"timestamp\": date.datetime.utcnow().strftime(\"%Y-%m-%dT%H:%M:%SZ\"),\n",
    "                \"fields\": [\n",
    "                    {\n",
    "                        \"name\": \"Protocol Step\",\n",
    "                        \"value\": message,\n",
    "                    },\n",
    "                ],\n",
    "                \"footer\": {\n",
    "                    \"text\": \"Protocol-Timer created by Pranav Mishra (pranavmishra90/protocol-timer)\"\n",
    "                },\n",
    "            }\n",
    "        ],\n",
    "    }\n",
    "\n",
    "    return json_payload\n",
    "\n",
    "#### Matrix ####\n",
    "\n",
    "def compose_matrix_protocol_json(message, duration):\n",
    "    duration_parts = duration.split(\":\")\n",
    "    duration_var = date.timedelta(hours=int(duration_parts[0]), minutes=int(duration_parts[1]), seconds=int(duration_parts[2]))\n",
    "\n",
    "    tzinfo = date.timezone(date.timedelta(hours=timezone_offset))\n",
    "\n",
    "    current_datetime = date.datetime.now(tzinfo)\n",
    "    resulting_datetime = current_datetime + duration_var\n",
    "\n",
    "    step_end_time = resulting_datetime.strftime(\"%I:%M %p\")\n",
    "\n",
    "    json_payload = {\n",
    "        \"html\": f\"<h2>{message}</h2><b>Duration</b>: {duration}</br><b>End Time</b>: {step_end_time}\"\n",
    "    }\n",
    "    return json_payload\n",
    "\n",
    "\n",
    "\n",
    "def send_matrix_protocol_step(message, duration):\n",
    "    json_payload = compose_matrix_protocol_json(message, duration)\n",
    "    headers = {\"Content-Type\": \"application/json\"}\n",
    "\n",
    "    response = requests.post(\n",
    "        matrix_webhook_url, data=json.dumps(json_payload), headers=headers\n",
    "    )\n",
    "\n",
    "    if response.status_code == 202:\n",
    "        print(\"Matrix notification successful\")\n",
    "    else:\n",
    "        print(f\"Failed to notify on Matrix. Status code: {response.status_code}\")\n",
    "\n",
    "\n",
    "def compose_matrix_message_json(message):\n",
    "    json_payload = {\n",
    "        \"html\": f\"{message}\"\n",
    "    }\n",
    "    return json_payload\n",
    "\n",
    "def send_matrix_message(message):\n",
    "    json_payload = compose_matrix_message_json(message)\n",
    "    headers = {\"Content-Type\": \"application/json\"}\n",
    "\n",
    "    response = requests.post(\n",
    "        matrix_webhook_url, data=json.dumps(json_payload), headers=headers\n",
    "    )\n",
    "\n",
    "    if response.status_code == 202:\n",
    "        print(\"Matrix notification successful\")\n",
    "    else:\n",
    "        print(f\"Failed to notify on Matrix. Status code: {response.status_code}\")\n",
    "\n",
    "\n",
    "#### Discord ####\n",
    "\n",
    "def send_discord_message(message):\n",
    "    json_payload = compose_discord_json(message)\n",
    "\n",
    "    headers = {\"Content-Type\": \"application/json\"}\n",
    "\n",
    "    response = requests.post(\n",
    "        webhook_url, data=json.dumps(json_payload), headers=headers\n",
    "    )\n",
    "\n",
    "    if response.status_code == 204:\n",
    "        print(\"Discord notification successful!\")\n",
    "    else:\n",
    "        print(f\"Failed to notify on discord. Status code: {response.status_code}\")\n",
    "\n",
    "\n",
    "def current_datetime():\n",
    "    current_datetime = date.datetime.now()\n",
    "\n",
    "    # Format the datetime as \"Day, mm/dd/yy at hh:mm:ss AM/PM\"\n",
    "    formatted_datetime = current_datetime.strftime(\"%A, %m/%d/%y at %I:%M:%S %p\")\n",
    "\n",
    "    return formatted_datetime\n",
    "\n",
    "\n",
    "### Create a new cell in VSCode ###\n",
    "def create_new_cell(contents):\n",
    "    shell = get_ipython()\n",
    "\n",
    "    payload = dict(\n",
    "        source=\"set_next_input\",\n",
    "        text=contents,\n",
    "        replace=False,\n",
    "    )\n",
    "    shell.payload_manager.write_payload(payload, single=False)\n",
    "\n",
    "\n",
    "clear_chat_page = \"<i>(Clearing the page)</i>\" + \"<br>\" * 70"
   ]
  },
  {
   "attachments": {},
   "cell_type": "markdown",
   "metadata": {},
   "source": [
    "## Import the protocol and format the dataframe"
   ]
  },
  {
   "cell_type": "code",
   "execution_count": 16,
   "metadata": {},
   "outputs": [
    {
     "name": "stdout",
     "output_type": "stream",
     "text": [
      "<h1>Deparaffinization Protocol</h1> <p><strong>Pranav Kumar Mishra</strong><br /> Department of Surgery and Orthopedic Surgery<br /> Laboratories of Alfonso Torquati and Anna Spagnoli<br /> Rush University, Chicago, IL, USA </p> <h2>Overview</h2> <p>This is a protocol for preparing slides using a formalin fixed, paraffin embedded (FFPE) section. These slides will be used for various protocols, including:</p> <ul> <li>Hematoxylin and Eosin</li> <li>Immunohistochemistry</li> <li>Spatial Transcriptomics</li> </ul> <p>The protocol was originally written by Michael Kluppel and has been modified with the following changes for the BFGI project</p> <h3>Changes</h3> <p>(none)</p>\n"
     ]
    }
   ],
   "source": [
    "protocol_csv_path = './histology/Deparaffinization.csv' #'./histology/FFPE.csv' \n",
    "\n",
    "\n",
    "# Show the HTML Description file loaded\n",
    "html_description = get_protocol_description(protocol_csv_path)\n",
    "print(html_description)"
   ]
  },
  {
   "cell_type": "code",
   "execution_count": 17,
   "metadata": {},
   "outputs": [
    {
     "data": {
      "text/html": [
       "<div>\n",
       "<style scoped>\n",
       "    .dataframe tbody tr th:only-of-type {\n",
       "        vertical-align: middle;\n",
       "    }\n",
       "\n",
       "    .dataframe tbody tr th {\n",
       "        vertical-align: top;\n",
       "    }\n",
       "\n",
       "    .dataframe thead th {\n",
       "        text-align: right;\n",
       "    }\n",
       "</style>\n",
       "<table border=\"1\" class=\"dataframe\">\n",
       "  <thead>\n",
       "    <tr style=\"text-align: right;\">\n",
       "      <th></th>\n",
       "      <th>Step Number</th>\n",
       "      <th>Step Text</th>\n",
       "      <th>Duration</th>\n",
       "      <th>Description</th>\n",
       "      <th>Comment</th>\n",
       "      <th>Combined</th>\n",
       "    </tr>\n",
       "  </thead>\n",
       "  <tbody>\n",
       "    <tr>\n",
       "      <th>0</th>\n",
       "      <td>16</td>\n",
       "      <td>PBS - 3</td>\n",
       "      <td>0:05:00</td>\n",
       "      <td>Room Temperature</td>\n",
       "      <td>&lt;NA&gt;</td>\n",
       "      <td>Step 16: PBS - 3 (0:05:00)</td>\n",
       "    </tr>\n",
       "    <tr>\n",
       "      <th>1</th>\n",
       "      <td>15</td>\n",
       "      <td>PBS - 2</td>\n",
       "      <td>0:05:00</td>\n",
       "      <td>Room Temperature</td>\n",
       "      <td>&lt;NA&gt;</td>\n",
       "      <td>Step 15: PBS - 2 (0:05:00)</td>\n",
       "    </tr>\n",
       "    <tr>\n",
       "      <th>2</th>\n",
       "      <td>14</td>\n",
       "      <td>PBS - 1</td>\n",
       "      <td>0:05:00</td>\n",
       "      <td>Room Temperature</td>\n",
       "      <td>&lt;NA&gt;</td>\n",
       "      <td>Step 14: PBS - 1 (0:05:00)</td>\n",
       "    </tr>\n",
       "    <tr>\n",
       "      <th>3</th>\n",
       "      <td>13</td>\n",
       "      <td>0.1% Triton X-100 in PBS</td>\n",
       "      <td>0:20:00</td>\n",
       "      <td>Room Temperature</td>\n",
       "      <td>Tissue permeabilization</td>\n",
       "      <td>Step 13: 0.1% Triton X-100 in PBS (0:20:00)</td>\n",
       "    </tr>\n",
       "    <tr>\n",
       "      <th>4</th>\n",
       "      <td>12</td>\n",
       "      <td>PBS - 3</td>\n",
       "      <td>0:05:00</td>\n",
       "      <td>Room Temperature</td>\n",
       "      <td>&lt;NA&gt;</td>\n",
       "      <td>Step 12: PBS - 3 (0:05:00)</td>\n",
       "    </tr>\n",
       "    <tr>\n",
       "      <th>5</th>\n",
       "      <td>11</td>\n",
       "      <td>PBS - 2</td>\n",
       "      <td>0:05:00</td>\n",
       "      <td>Room Temperature</td>\n",
       "      <td>&lt;NA&gt;</td>\n",
       "      <td>Step 11: PBS - 2 (0:05:00)</td>\n",
       "    </tr>\n",
       "    <tr>\n",
       "      <th>6</th>\n",
       "      <td>10</td>\n",
       "      <td>PBS - 1</td>\n",
       "      <td>0:05:00</td>\n",
       "      <td>Room Temperature</td>\n",
       "      <td>&lt;NA&gt;</td>\n",
       "      <td>Step 10: PBS - 1 (0:05:00)</td>\n",
       "    </tr>\n",
       "    <tr>\n",
       "      <th>7</th>\n",
       "      <td>9</td>\n",
       "      <td>50% Ethanol</td>\n",
       "      <td>0:05:00</td>\n",
       "      <td>Room Temperature</td>\n",
       "      <td>&lt;NA&gt;</td>\n",
       "      <td>Step 9: 50% Ethanol (0:05:00)</td>\n",
       "    </tr>\n",
       "    <tr>\n",
       "      <th>8</th>\n",
       "      <td>8</td>\n",
       "      <td>75% Ethanol</td>\n",
       "      <td>0:05:00</td>\n",
       "      <td>Room Temperature</td>\n",
       "      <td>&lt;NA&gt;</td>\n",
       "      <td>Step 8: 75% Ethanol (0:05:00)</td>\n",
       "    </tr>\n",
       "    <tr>\n",
       "      <th>9</th>\n",
       "      <td>7</td>\n",
       "      <td>95% Ethanol</td>\n",
       "      <td>0:05:00</td>\n",
       "      <td>Room Temperature</td>\n",
       "      <td>&lt;NA&gt;</td>\n",
       "      <td>Step 7: 95% Ethanol (0:05:00)</td>\n",
       "    </tr>\n",
       "    <tr>\n",
       "      <th>10</th>\n",
       "      <td>6</td>\n",
       "      <td>100% Ethanol - 2</td>\n",
       "      <td>0:05:00</td>\n",
       "      <td>Room Temperature</td>\n",
       "      <td>&lt;NA&gt;</td>\n",
       "      <td>Step 6: 100% Ethanol - 2 (0:05:00)</td>\n",
       "    </tr>\n",
       "    <tr>\n",
       "      <th>11</th>\n",
       "      <td>5</td>\n",
       "      <td>100% Ethanol - 1</td>\n",
       "      <td>0:05:00</td>\n",
       "      <td>Room Temperature</td>\n",
       "      <td>&lt;NA&gt;</td>\n",
       "      <td>Step 5: 100% Ethanol - 1 (0:05:00)</td>\n",
       "    </tr>\n",
       "    <tr>\n",
       "      <th>12</th>\n",
       "      <td>4</td>\n",
       "      <td>50% Xylene / 50% Ethanol</td>\n",
       "      <td>0:05:00</td>\n",
       "      <td>Room Temperature</td>\n",
       "      <td>&lt;NA&gt;</td>\n",
       "      <td>Step 4: 50% Xylene / 50% Ethanol (0:05:00)</td>\n",
       "    </tr>\n",
       "    <tr>\n",
       "      <th>13</th>\n",
       "      <td>3</td>\n",
       "      <td>Xylene</td>\n",
       "      <td>0:05:00</td>\n",
       "      <td>Room Temperature</td>\n",
       "      <td>&lt;NA&gt;</td>\n",
       "      <td>Step 3: Xylene (0:05:00)</td>\n",
       "    </tr>\n",
       "    <tr>\n",
       "      <th>14</th>\n",
       "      <td>2</td>\n",
       "      <td>Xylene</td>\n",
       "      <td>0:05:00</td>\n",
       "      <td>Room Temperature</td>\n",
       "      <td>&lt;NA&gt;</td>\n",
       "      <td>Step 2: Xylene (0:05:00)</td>\n",
       "    </tr>\n",
       "    <tr>\n",
       "      <th>15</th>\n",
       "      <td>1</td>\n",
       "      <td>Vacuum oven</td>\n",
       "      <td>1:00:00</td>\n",
       "      <td>50C</td>\n",
       "      <td>Can remain in the vacuum oven for up to 5 hours</td>\n",
       "      <td>Step 1: Vacuum oven (1:00:00)</td>\n",
       "    </tr>\n",
       "    <tr>\n",
       "      <th>16</th>\n",
       "      <td>0</td>\n",
       "      <td>Protocol created by Michael Kluppel</td>\n",
       "      <td>0:00:00</td>\n",
       "      <td>Immunofluorescence protocol - paraffin sections</td>\n",
       "      <td>&lt;NA&gt;</td>\n",
       "      <td>Step 0: Protocol created by Michael Kluppel (0...</td>\n",
       "    </tr>\n",
       "  </tbody>\n",
       "</table>\n",
       "</div>"
      ],
      "text/plain": [
       "    Step Number                            Step Text Duration  \\\n",
       "0            16                              PBS - 3  0:05:00   \n",
       "1            15                              PBS - 2  0:05:00   \n",
       "2            14                              PBS - 1  0:05:00   \n",
       "3            13             0.1% Triton X-100 in PBS  0:20:00   \n",
       "4            12                              PBS - 3  0:05:00   \n",
       "5            11                              PBS - 2  0:05:00   \n",
       "6            10                              PBS - 1  0:05:00   \n",
       "7             9                          50% Ethanol  0:05:00   \n",
       "8             8                          75% Ethanol  0:05:00   \n",
       "9             7                          95% Ethanol  0:05:00   \n",
       "10            6                     100% Ethanol - 2  0:05:00   \n",
       "11            5                     100% Ethanol - 1  0:05:00   \n",
       "12            4             50% Xylene / 50% Ethanol  0:05:00   \n",
       "13            3                               Xylene  0:05:00   \n",
       "14            2                               Xylene  0:05:00   \n",
       "15            1                          Vacuum oven  1:00:00   \n",
       "16            0  Protocol created by Michael Kluppel  0:00:00   \n",
       "\n",
       "                                        Description  \\\n",
       "0                                  Room Temperature   \n",
       "1                                  Room Temperature   \n",
       "2                                  Room Temperature   \n",
       "3                                  Room Temperature   \n",
       "4                                  Room Temperature   \n",
       "5                                  Room Temperature   \n",
       "6                                  Room Temperature   \n",
       "7                                  Room Temperature   \n",
       "8                                  Room Temperature   \n",
       "9                                  Room Temperature   \n",
       "10                                 Room Temperature   \n",
       "11                                 Room Temperature   \n",
       "12                                 Room Temperature   \n",
       "13                                 Room Temperature   \n",
       "14                                 Room Temperature   \n",
       "15                                              50C   \n",
       "16  Immunofluorescence protocol - paraffin sections   \n",
       "\n",
       "                                            Comment  \\\n",
       "0                                              <NA>   \n",
       "1                                              <NA>   \n",
       "2                                              <NA>   \n",
       "3                           Tissue permeabilization   \n",
       "4                                              <NA>   \n",
       "5                                              <NA>   \n",
       "6                                              <NA>   \n",
       "7                                              <NA>   \n",
       "8                                              <NA>   \n",
       "9                                              <NA>   \n",
       "10                                             <NA>   \n",
       "11                                             <NA>   \n",
       "12                                             <NA>   \n",
       "13                                             <NA>   \n",
       "14                                             <NA>   \n",
       "15  Can remain in the vacuum oven for up to 5 hours   \n",
       "16                                             <NA>   \n",
       "\n",
       "                                             Combined  \n",
       "0                          Step 16: PBS - 3 (0:05:00)  \n",
       "1                          Step 15: PBS - 2 (0:05:00)  \n",
       "2                          Step 14: PBS - 1 (0:05:00)  \n",
       "3         Step 13: 0.1% Triton X-100 in PBS (0:20:00)  \n",
       "4                          Step 12: PBS - 3 (0:05:00)  \n",
       "5                          Step 11: PBS - 2 (0:05:00)  \n",
       "6                          Step 10: PBS - 1 (0:05:00)  \n",
       "7                       Step 9: 50% Ethanol (0:05:00)  \n",
       "8                       Step 8: 75% Ethanol (0:05:00)  \n",
       "9                       Step 7: 95% Ethanol (0:05:00)  \n",
       "10                 Step 6: 100% Ethanol - 2 (0:05:00)  \n",
       "11                 Step 5: 100% Ethanol - 1 (0:05:00)  \n",
       "12         Step 4: 50% Xylene / 50% Ethanol (0:05:00)  \n",
       "13                           Step 3: Xylene (0:05:00)  \n",
       "14                           Step 2: Xylene (0:05:00)  \n",
       "15                      Step 1: Vacuum oven (1:00:00)  \n",
       "16  Step 0: Protocol created by Michael Kluppel (0...  "
      ]
     },
     "metadata": {},
     "output_type": "display_data"
    }
   ],
   "source": [
    "df = pd.read_csv(protocol_csv_path)\n",
    "\n",
    "#flip the dataframe since a new \"step\" is always inserted immediately after the currently running one (new cells end up in reverse order)\n",
    "df = df.iloc[::-1].reset_index()\n",
    "df.drop(columns='index', inplace=True)\n",
    "\n",
    "df['Combined'] = \"Step \"+ df['Step Number'].astype(str) + \": \" + df['Step Text'].astype(str) + \" (\" + df['Duration'].astype(str) + \")\"\n",
    "\n",
    "df = df.astype({'Step Number': 'int', 'Step Text': 'string', 'Duration': 'string', 'Description': 'string', 'Comment': 'string', 'Combined':'string'})\n",
    "\n",
    "display(df)"
   ]
  },
  {
   "cell_type": "code",
   "execution_count": 18,
   "metadata": {},
   "outputs": [
    {
     "data": {
      "text/markdown": [
       "Total time to complete the protocol: 2h:30m:0s.<br>Expected time of completion: Friday at 06:58 PM"
      ],
      "text/plain": [
       "<IPython.core.display.Markdown object>"
      ]
     },
     "metadata": {},
     "output_type": "display_data"
    }
   ],
   "source": [
    "# Calculate the total time and expected time of completion for the protocol\n",
    "\n",
    "# Create a new column with a timedelta format\n",
    "df['Timedelta'] = pd.to_timedelta(df['Duration'])\n",
    "\n",
    "total_duration = df['Timedelta'].sum()\n",
    "total_hours, remainder = divmod(total_duration.total_seconds(), 3600)\n",
    "total_minutes, total_seconds = divmod(remainder, 60)\n",
    "\n",
    "total_time_formatted = f\"{int(total_hours)}h:{int(total_minutes)}m:{int(total_seconds)}s\"\n",
    "\n",
    "# Calculate the expected time of completion\n",
    "expected_time_completion = date.datetime.now() + total_duration\n",
    "formatted_completion_time = expected_time_completion.strftime('%A at %I:%M %p')\n",
    "\n",
    "display(Markdown(f\"Total time to complete the protocol: {total_time_formatted}.<br>Expected time of completion: {formatted_completion_time}\"))"
   ]
  },
  {
   "attachments": {},
   "cell_type": "markdown",
   "metadata": {},
   "source": [
    "## Your Protocol\n",
    "**Instructions**\n",
    "A cell has been created for each step of your protocol according to the durations specified. When you \"run\" a cell, a progress bar will appear, with a timer for the elapsed time and a time remaining countdown.\n",
    "\n",
    "After the timer runs out, a completed message will be displayed.\n",
    "\n",
    "### Run the next cell *once*"
   ]
  },
  {
   "cell_type": "code",
   "execution_count": 19,
   "metadata": {},
   "outputs": [
    {
     "data": {
      "text/markdown": [
       "## Start the protocol\n",
       "**When you are ready to begin, run the cell below**"
      ],
      "text/plain": [
       "<IPython.core.display.Markdown object>"
      ]
     },
     "metadata": {},
     "output_type": "display_data"
    }
   ],
   "source": [
    "create_new_cell(\"#------ End of protocol ------# \\n #When you have reached this point, you can delete all of the protocol steps which have been created, or simply close this file without saving\")\n",
    "\n",
    "create_new_cell('send_matrix_message(f\"---- PROTOCOL COMPLETE at {current_datetime()} ---- <br><hr>\")')\n",
    "\n",
    "for row in df.index:\n",
    "    all_in_one = step_commands(df, row)\n",
    "    \n",
    "    create_new_cell(all_in_one)\n",
    "\n",
    "display(Markdown('## Start the protocol\\n**When you are ready to begin, run the cell below**'))\n",
    "\n",
    "create_new_cell('send_matrix_message(f\"---- STARTING PROTOCOL at {current_datetime()} ---- <br>Total time to complete the protocol: {total_time_formatted}.<br>Expected time of completion: {formatted_completion_time}\")')\n",
    "\n",
    "create_new_cell('send_matrix_message(f\"{html_description}\")')\n",
    "\n",
    "create_new_cell('send_matrix_message(clear_chat_page)')\n",
    "\n",
    "create_new_cell(\"#------ Click here, then run all of the cells below ------#\")"
   ]
  },
  {
   "cell_type": "code",
   "execution_count": 20,
   "metadata": {},
   "outputs": [],
   "source": [
    "#------ Click here, then run all of the cells below ------#"
   ]
  },
  {
   "cell_type": "code",
   "execution_count": 21,
   "metadata": {},
   "outputs": [
    {
     "name": "stdout",
     "output_type": "stream",
     "text": [
      "Matrix notification successful\n"
     ]
    }
   ],
   "source": [
    "send_matrix_message(clear_chat_page)"
   ]
  },
  {
   "cell_type": "code",
   "execution_count": 22,
   "metadata": {},
   "outputs": [
    {
     "name": "stdout",
     "output_type": "stream",
     "text": [
      "Matrix notification successful\n"
     ]
    }
   ],
   "source": [
    "send_matrix_message(f\"{html_description}\")"
   ]
  },
  {
   "cell_type": "code",
   "execution_count": 23,
   "metadata": {},
   "outputs": [
    {
     "name": "stdout",
     "output_type": "stream",
     "text": [
      "Matrix notification successful\n"
     ]
    }
   ],
   "source": [
    "send_matrix_message(f\"---- STARTING PROTOCOL at {current_datetime()} ---- <br>Total time to complete the protocol: {total_time_formatted}.<br>Expected time of completion: {formatted_completion_time}\")"
   ]
  },
  {
   "cell_type": "code",
   "execution_count": 24,
   "metadata": {},
   "outputs": [
    {
     "name": "stdout",
     "output_type": "stream",
     "text": [
      "**Step 0: Protocol created by Michael Kluppel (0:00:00)**\n",
      "Duration is 0.0 minutes\n"
     ]
    },
    {
     "data": {
      "text/plain": [
       "'Starting Step 0: Protocol created by Michael Kluppel (0:00:00)'"
      ]
     },
     "metadata": {},
     "output_type": "display_data"
    },
    {
     "name": "stdout",
     "output_type": "stream",
     "text": [
      "Matrix notification successful\n"
     ]
    },
    {
     "data": {
      "application/vnd.jupyter.widget-view+json": {
       "model_id": "6babdf494f5f408fae2eb05f7e5469a9",
       "version_major": 2,
       "version_minor": 0
      },
      "text/plain": [
       "     0% [Elapsed: 00:00 -- Remaining: ?]"
      ]
     },
     "metadata": {},
     "output_type": "display_data"
    },
    {
     "data": {
      "text/plain": [
       "'COMPLETED Step 0: Protocol created by Michael Kluppel (0:00:00)'"
      ]
     },
     "metadata": {},
     "output_type": "display_data"
    }
   ],
   "source": [
    "print('**Step 0: Protocol created by Michael Kluppel (0:00:00)**') \n",
    "print('Duration is 0.0 minutes') \n",
    "countdown(df.Duration.iloc[16], df.Combined.iloc[16], df.Duration.iloc[16])"
   ]
  },
  {
   "cell_type": "code",
   "execution_count": null,
   "metadata": {},
   "outputs": [],
   "source": [
    "print('**Step 1: Vacuum oven (1:00:00)**') \n",
    "print('Duration is 60.0 minutes') \n",
    "countdown(df.Duration.iloc[15], df.Combined.iloc[15], df.Duration.iloc[15])"
   ]
  },
  {
   "cell_type": "code",
   "execution_count": 25,
   "metadata": {},
   "outputs": [
    {
     "name": "stdout",
     "output_type": "stream",
     "text": [
      "**Step 2: Xylene (0:05:00)**\n",
      "Duration is 5.0 minutes\n"
     ]
    },
    {
     "data": {
      "text/plain": [
       "'Starting Step 2: Xylene (0:05:00)'"
      ]
     },
     "metadata": {},
     "output_type": "display_data"
    },
    {
     "name": "stdout",
     "output_type": "stream",
     "text": [
      "Matrix notification successful\n"
     ]
    },
    {
     "data": {
      "application/vnd.jupyter.widget-view+json": {
       "model_id": "1129d1b468f74e718a0b70d5e1ef2fb5",
       "version_major": 2,
       "version_minor": 0
      },
      "text/plain": [
       "     0% [Elapsed: 00:00 -- Remaining: ?]"
      ]
     },
     "metadata": {},
     "output_type": "display_data"
    },
    {
     "data": {
      "text/plain": [
       "'COMPLETED Step 2: Xylene (0:05:00)'"
      ]
     },
     "metadata": {},
     "output_type": "display_data"
    }
   ],
   "source": [
    "print('**Step 2: Xylene (0:05:00)**') \n",
    "print('Duration is 5.0 minutes') \n",
    "countdown(df.Duration.iloc[14], df.Combined.iloc[14], df.Duration.iloc[14])"
   ]
  },
  {
   "cell_type": "code",
   "execution_count": 26,
   "metadata": {},
   "outputs": [
    {
     "name": "stdout",
     "output_type": "stream",
     "text": [
      "**Step 3: Xylene (0:05:00)**\n",
      "Duration is 5.0 minutes\n"
     ]
    },
    {
     "data": {
      "text/plain": [
       "'Starting Step 3: Xylene (0:05:00)'"
      ]
     },
     "metadata": {},
     "output_type": "display_data"
    },
    {
     "name": "stdout",
     "output_type": "stream",
     "text": [
      "Matrix notification successful\n"
     ]
    },
    {
     "data": {
      "application/vnd.jupyter.widget-view+json": {
       "model_id": "6ec6b9b207cc4a11b002142b397a632f",
       "version_major": 2,
       "version_minor": 0
      },
      "text/plain": [
       "     0% [Elapsed: 00:00 -- Remaining: ?]"
      ]
     },
     "metadata": {},
     "output_type": "display_data"
    },
    {
     "data": {
      "text/plain": [
       "'COMPLETED Step 3: Xylene (0:05:00)'"
      ]
     },
     "metadata": {},
     "output_type": "display_data"
    }
   ],
   "source": [
    "print('**Step 3: Xylene (0:05:00)**') \n",
    "print('Duration is 5.0 minutes') \n",
    "countdown(df.Duration.iloc[13], df.Combined.iloc[13], df.Duration.iloc[13])"
   ]
  },
  {
   "cell_type": "code",
   "execution_count": 27,
   "metadata": {},
   "outputs": [
    {
     "name": "stdout",
     "output_type": "stream",
     "text": [
      "**Step 4: 50% Xylene / 50% Ethanol (0:05:00)**\n",
      "Duration is 5.0 minutes\n"
     ]
    },
    {
     "data": {
      "text/plain": [
       "'Starting Step 4: 50% Xylene / 50% Ethanol (0:05:00)'"
      ]
     },
     "metadata": {},
     "output_type": "display_data"
    },
    {
     "name": "stdout",
     "output_type": "stream",
     "text": [
      "Matrix notification successful\n"
     ]
    },
    {
     "data": {
      "application/vnd.jupyter.widget-view+json": {
       "model_id": "d8bc8cd54ebf482c8754773d090a0bb7",
       "version_major": 2,
       "version_minor": 0
      },
      "text/plain": [
       "     0% [Elapsed: 00:00 -- Remaining: ?]"
      ]
     },
     "metadata": {},
     "output_type": "display_data"
    },
    {
     "data": {
      "text/plain": [
       "'COMPLETED Step 4: 50% Xylene / 50% Ethanol (0:05:00)'"
      ]
     },
     "metadata": {},
     "output_type": "display_data"
    }
   ],
   "source": [
    "print('**Step 4: 50% Xylene / 50% Ethanol (0:05:00)**') \n",
    "print('Duration is 5.0 minutes') \n",
    "countdown(df.Duration.iloc[12], df.Combined.iloc[12], df.Duration.iloc[12])"
   ]
  },
  {
   "cell_type": "code",
   "execution_count": 28,
   "metadata": {},
   "outputs": [
    {
     "name": "stdout",
     "output_type": "stream",
     "text": [
      "**Step 5: 100% Ethanol - 1 (0:05:00)**\n",
      "Duration is 5.0 minutes\n"
     ]
    },
    {
     "data": {
      "text/plain": [
       "'Starting Step 5: 100% Ethanol - 1 (0:05:00)'"
      ]
     },
     "metadata": {},
     "output_type": "display_data"
    },
    {
     "name": "stdout",
     "output_type": "stream",
     "text": [
      "Matrix notification successful\n"
     ]
    },
    {
     "data": {
      "application/vnd.jupyter.widget-view+json": {
       "model_id": "6e6fcf4cffc749fb9303e7df0a430338",
       "version_major": 2,
       "version_minor": 0
      },
      "text/plain": [
       "     0% [Elapsed: 00:00 -- Remaining: ?]"
      ]
     },
     "metadata": {},
     "output_type": "display_data"
    },
    {
     "data": {
      "text/plain": [
       "'COMPLETED Step 5: 100% Ethanol - 1 (0:05:00)'"
      ]
     },
     "metadata": {},
     "output_type": "display_data"
    }
   ],
   "source": [
    "print('**Step 5: 100% Ethanol - 1 (0:05:00)**') \n",
    "print('Duration is 5.0 minutes') \n",
    "countdown(df.Duration.iloc[11], df.Combined.iloc[11], df.Duration.iloc[11])"
   ]
  },
  {
   "cell_type": "code",
   "execution_count": 29,
   "metadata": {},
   "outputs": [
    {
     "name": "stdout",
     "output_type": "stream",
     "text": [
      "**Step 6: 100% Ethanol - 2 (0:05:00)**\n",
      "Duration is 5.0 minutes\n"
     ]
    },
    {
     "data": {
      "text/plain": [
       "'Starting Step 6: 100% Ethanol - 2 (0:05:00)'"
      ]
     },
     "metadata": {},
     "output_type": "display_data"
    },
    {
     "name": "stdout",
     "output_type": "stream",
     "text": [
      "Matrix notification successful\n"
     ]
    },
    {
     "data": {
      "application/vnd.jupyter.widget-view+json": {
       "model_id": "c11b672ff16e40289ace72a307448346",
       "version_major": 2,
       "version_minor": 0
      },
      "text/plain": [
       "     0% [Elapsed: 00:00 -- Remaining: ?]"
      ]
     },
     "metadata": {},
     "output_type": "display_data"
    },
    {
     "data": {
      "text/plain": [
       "'COMPLETED Step 6: 100% Ethanol - 2 (0:05:00)'"
      ]
     },
     "metadata": {},
     "output_type": "display_data"
    }
   ],
   "source": [
    "print('**Step 6: 100% Ethanol - 2 (0:05:00)**') \n",
    "print('Duration is 5.0 minutes') \n",
    "countdown(df.Duration.iloc[10], df.Combined.iloc[10], df.Duration.iloc[10])"
   ]
  },
  {
   "cell_type": "code",
   "execution_count": 30,
   "metadata": {},
   "outputs": [
    {
     "name": "stdout",
     "output_type": "stream",
     "text": [
      "**Step 7: 95% Ethanol (0:05:00)**\n",
      "Duration is 5.0 minutes\n"
     ]
    },
    {
     "data": {
      "text/plain": [
       "'Starting Step 7: 95% Ethanol (0:05:00)'"
      ]
     },
     "metadata": {},
     "output_type": "display_data"
    },
    {
     "name": "stdout",
     "output_type": "stream",
     "text": [
      "Matrix notification successful\n"
     ]
    },
    {
     "data": {
      "application/vnd.jupyter.widget-view+json": {
       "model_id": "acb19c11e3e049789cc3f5de384e37ee",
       "version_major": 2,
       "version_minor": 0
      },
      "text/plain": [
       "     0% [Elapsed: 00:00 -- Remaining: ?]"
      ]
     },
     "metadata": {},
     "output_type": "display_data"
    },
    {
     "data": {
      "text/plain": [
       "'COMPLETED Step 7: 95% Ethanol (0:05:00)'"
      ]
     },
     "metadata": {},
     "output_type": "display_data"
    }
   ],
   "source": [
    "print('**Step 7: 95% Ethanol (0:05:00)**') \n",
    "print('Duration is 5.0 minutes') \n",
    "countdown(df.Duration.iloc[9], df.Combined.iloc[9], df.Duration.iloc[9])"
   ]
  },
  {
   "cell_type": "code",
   "execution_count": 31,
   "metadata": {},
   "outputs": [
    {
     "name": "stdout",
     "output_type": "stream",
     "text": [
      "**Step 8: 75% Ethanol (0:05:00)**\n",
      "Duration is 5.0 minutes\n"
     ]
    },
    {
     "data": {
      "text/plain": [
       "'Starting Step 8: 75% Ethanol (0:05:00)'"
      ]
     },
     "metadata": {},
     "output_type": "display_data"
    },
    {
     "name": "stdout",
     "output_type": "stream",
     "text": [
      "Matrix notification successful\n"
     ]
    },
    {
     "data": {
      "application/vnd.jupyter.widget-view+json": {
       "model_id": "db0db27fd3cc4022a4bc919477cd43a5",
       "version_major": 2,
       "version_minor": 0
      },
      "text/plain": [
       "     0% [Elapsed: 00:00 -- Remaining: ?]"
      ]
     },
     "metadata": {},
     "output_type": "display_data"
    },
    {
     "data": {
      "text/plain": [
       "'COMPLETED Step 8: 75% Ethanol (0:05:00)'"
      ]
     },
     "metadata": {},
     "output_type": "display_data"
    }
   ],
   "source": [
    "print('**Step 8: 75% Ethanol (0:05:00)**') \n",
    "print('Duration is 5.0 minutes') \n",
    "countdown(df.Duration.iloc[8], df.Combined.iloc[8], df.Duration.iloc[8])"
   ]
  },
  {
   "cell_type": "code",
   "execution_count": 32,
   "metadata": {},
   "outputs": [
    {
     "name": "stdout",
     "output_type": "stream",
     "text": [
      "**Step 9: 50% Ethanol (0:05:00)**\n",
      "Duration is 5.0 minutes\n"
     ]
    },
    {
     "data": {
      "text/plain": [
       "'Starting Step 9: 50% Ethanol (0:05:00)'"
      ]
     },
     "metadata": {},
     "output_type": "display_data"
    },
    {
     "name": "stdout",
     "output_type": "stream",
     "text": [
      "Matrix notification successful\n"
     ]
    },
    {
     "data": {
      "application/vnd.jupyter.widget-view+json": {
       "model_id": "7cae6b1219504ade8a7968e7f9372942",
       "version_major": 2,
       "version_minor": 0
      },
      "text/plain": [
       "     0% [Elapsed: 00:00 -- Remaining: ?]"
      ]
     },
     "metadata": {},
     "output_type": "display_data"
    },
    {
     "data": {
      "text/plain": [
       "'COMPLETED Step 9: 50% Ethanol (0:05:00)'"
      ]
     },
     "metadata": {},
     "output_type": "display_data"
    }
   ],
   "source": [
    "print('**Step 9: 50% Ethanol (0:05:00)**') \n",
    "print('Duration is 5.0 minutes') \n",
    "countdown(df.Duration.iloc[7], df.Combined.iloc[7], df.Duration.iloc[7])"
   ]
  },
  {
   "cell_type": "code",
   "execution_count": 33,
   "metadata": {},
   "outputs": [
    {
     "name": "stdout",
     "output_type": "stream",
     "text": [
      "**Step 10: PBS - 1 (0:05:00)**\n",
      "Duration is 5.0 minutes\n"
     ]
    },
    {
     "data": {
      "text/plain": [
       "'Starting Step 10: PBS - 1 (0:05:00)'"
      ]
     },
     "metadata": {},
     "output_type": "display_data"
    },
    {
     "name": "stdout",
     "output_type": "stream",
     "text": [
      "Matrix notification successful\n"
     ]
    },
    {
     "data": {
      "application/vnd.jupyter.widget-view+json": {
       "model_id": "aec2d7a5f80342d0884116b559914fd8",
       "version_major": 2,
       "version_minor": 0
      },
      "text/plain": [
       "     0% [Elapsed: 00:00 -- Remaining: ?]"
      ]
     },
     "metadata": {},
     "output_type": "display_data"
    },
    {
     "data": {
      "text/plain": [
       "'COMPLETED Step 10: PBS - 1 (0:05:00)'"
      ]
     },
     "metadata": {},
     "output_type": "display_data"
    }
   ],
   "source": [
    "print('**Step 10: PBS - 1 (0:05:00)**') \n",
    "print('Duration is 5.0 minutes') \n",
    "countdown(df.Duration.iloc[6], df.Combined.iloc[6], df.Duration.iloc[6])"
   ]
  },
  {
   "cell_type": "code",
   "execution_count": 34,
   "metadata": {},
   "outputs": [
    {
     "name": "stdout",
     "output_type": "stream",
     "text": [
      "**Step 11: PBS - 2 (0:05:00)**\n",
      "Duration is 5.0 minutes\n"
     ]
    },
    {
     "data": {
      "text/plain": [
       "'Starting Step 11: PBS - 2 (0:05:00)'"
      ]
     },
     "metadata": {},
     "output_type": "display_data"
    },
    {
     "name": "stdout",
     "output_type": "stream",
     "text": [
      "Matrix notification successful\n"
     ]
    },
    {
     "data": {
      "application/vnd.jupyter.widget-view+json": {
       "model_id": "657a7120ffc64647a3e45e87b52cd446",
       "version_major": 2,
       "version_minor": 0
      },
      "text/plain": [
       "     0% [Elapsed: 00:00 -- Remaining: ?]"
      ]
     },
     "metadata": {},
     "output_type": "display_data"
    },
    {
     "data": {
      "text/plain": [
       "'COMPLETED Step 11: PBS - 2 (0:05:00)'"
      ]
     },
     "metadata": {},
     "output_type": "display_data"
    }
   ],
   "source": [
    "print('**Step 11: PBS - 2 (0:05:00)**') \n",
    "print('Duration is 5.0 minutes') \n",
    "countdown(df.Duration.iloc[5], df.Combined.iloc[5], df.Duration.iloc[5])"
   ]
  },
  {
   "cell_type": "code",
   "execution_count": 35,
   "metadata": {},
   "outputs": [
    {
     "name": "stdout",
     "output_type": "stream",
     "text": [
      "**Step 12: PBS - 3 (0:05:00)**\n",
      "Duration is 5.0 minutes\n"
     ]
    },
    {
     "data": {
      "text/plain": [
       "'Starting Step 12: PBS - 3 (0:05:00)'"
      ]
     },
     "metadata": {},
     "output_type": "display_data"
    },
    {
     "name": "stdout",
     "output_type": "stream",
     "text": [
      "Matrix notification successful\n"
     ]
    },
    {
     "data": {
      "application/vnd.jupyter.widget-view+json": {
       "model_id": "4ac90128b01b42699938799e7e65a246",
       "version_major": 2,
       "version_minor": 0
      },
      "text/plain": [
       "     0% [Elapsed: 00:00 -- Remaining: ?]"
      ]
     },
     "metadata": {},
     "output_type": "display_data"
    },
    {
     "data": {
      "text/plain": [
       "'COMPLETED Step 12: PBS - 3 (0:05:00)'"
      ]
     },
     "metadata": {},
     "output_type": "display_data"
    }
   ],
   "source": [
    "print('**Step 12: PBS - 3 (0:05:00)**') \n",
    "print('Duration is 5.0 minutes') \n",
    "countdown(df.Duration.iloc[4], df.Combined.iloc[4], df.Duration.iloc[4])"
   ]
  },
  {
   "cell_type": "code",
   "execution_count": 36,
   "metadata": {},
   "outputs": [
    {
     "name": "stdout",
     "output_type": "stream",
     "text": [
      "**Step 13: 0.1% Triton X-100 in PBS (0:20:00)**\n",
      "Duration is 20.0 minutes\n"
     ]
    },
    {
     "data": {
      "text/plain": [
       "'Starting Step 13: 0.1% Triton X-100 in PBS (0:20:00)'"
      ]
     },
     "metadata": {},
     "output_type": "display_data"
    },
    {
     "name": "stdout",
     "output_type": "stream",
     "text": [
      "Matrix notification successful\n"
     ]
    },
    {
     "data": {
      "application/vnd.jupyter.widget-view+json": {
       "model_id": "791036d7b09041749720f373d0e9cb0b",
       "version_major": 2,
       "version_minor": 0
      },
      "text/plain": [
       "     0% [Elapsed: 00:00 -- Remaining: ?]"
      ]
     },
     "metadata": {},
     "output_type": "display_data"
    },
    {
     "data": {
      "text/plain": [
       "'COMPLETED Step 13: 0.1% Triton X-100 in PBS (0:20:00)'"
      ]
     },
     "metadata": {},
     "output_type": "display_data"
    }
   ],
   "source": [
    "print('**Step 13: 0.1% Triton X-100 in PBS (0:20:00)**') \n",
    "print('Duration is 20.0 minutes') \n",
    "countdown(df.Duration.iloc[3], df.Combined.iloc[3], df.Duration.iloc[3])"
   ]
  },
  {
   "cell_type": "code",
   "execution_count": 37,
   "metadata": {},
   "outputs": [
    {
     "name": "stdout",
     "output_type": "stream",
     "text": [
      "**Step 14: PBS - 1 (0:05:00)**\n",
      "Duration is 5.0 minutes\n"
     ]
    },
    {
     "data": {
      "text/plain": [
       "'Starting Step 14: PBS - 1 (0:05:00)'"
      ]
     },
     "metadata": {},
     "output_type": "display_data"
    },
    {
     "name": "stdout",
     "output_type": "stream",
     "text": [
      "Matrix notification successful\n"
     ]
    },
    {
     "data": {
      "application/vnd.jupyter.widget-view+json": {
       "model_id": "5f245495aeaa46f0a0bdee8ff549cdc6",
       "version_major": 2,
       "version_minor": 0
      },
      "text/plain": [
       "     0% [Elapsed: 00:00 -- Remaining: ?]"
      ]
     },
     "metadata": {},
     "output_type": "display_data"
    },
    {
     "data": {
      "text/plain": [
       "'COMPLETED Step 14: PBS - 1 (0:05:00)'"
      ]
     },
     "metadata": {},
     "output_type": "display_data"
    }
   ],
   "source": [
    "print('**Step 14: PBS - 1 (0:05:00)**') \n",
    "print('Duration is 5.0 minutes') \n",
    "countdown(df.Duration.iloc[2], df.Combined.iloc[2], df.Duration.iloc[2])"
   ]
  },
  {
   "cell_type": "code",
   "execution_count": 38,
   "metadata": {},
   "outputs": [
    {
     "name": "stdout",
     "output_type": "stream",
     "text": [
      "**Step 15: PBS - 2 (0:05:00)**\n",
      "Duration is 5.0 minutes\n"
     ]
    },
    {
     "data": {
      "text/plain": [
       "'Starting Step 15: PBS - 2 (0:05:00)'"
      ]
     },
     "metadata": {},
     "output_type": "display_data"
    },
    {
     "name": "stdout",
     "output_type": "stream",
     "text": [
      "Matrix notification successful\n"
     ]
    },
    {
     "data": {
      "application/vnd.jupyter.widget-view+json": {
       "model_id": "1f2028d7ba6f46bfa1e80b7b971b254c",
       "version_major": 2,
       "version_minor": 0
      },
      "text/plain": [
       "     0% [Elapsed: 00:00 -- Remaining: ?]"
      ]
     },
     "metadata": {},
     "output_type": "display_data"
    },
    {
     "data": {
      "text/plain": [
       "'COMPLETED Step 15: PBS - 2 (0:05:00)'"
      ]
     },
     "metadata": {},
     "output_type": "display_data"
    }
   ],
   "source": [
    "print('**Step 15: PBS - 2 (0:05:00)**') \n",
    "print('Duration is 5.0 minutes') \n",
    "countdown(df.Duration.iloc[1], df.Combined.iloc[1], df.Duration.iloc[1])"
   ]
  },
  {
   "cell_type": "code",
   "execution_count": 39,
   "metadata": {},
   "outputs": [
    {
     "name": "stdout",
     "output_type": "stream",
     "text": [
      "**Step 16: PBS - 3 (0:05:00)**\n",
      "Duration is 5.0 minutes\n"
     ]
    },
    {
     "data": {
      "text/plain": [
       "'Starting Step 16: PBS - 3 (0:05:00)'"
      ]
     },
     "metadata": {},
     "output_type": "display_data"
    },
    {
     "name": "stdout",
     "output_type": "stream",
     "text": [
      "Matrix notification successful\n"
     ]
    },
    {
     "data": {
      "application/vnd.jupyter.widget-view+json": {
       "model_id": "489912e765bb445897c0ccb7dfd9fe2d",
       "version_major": 2,
       "version_minor": 0
      },
      "text/plain": [
       "     0% [Elapsed: 00:00 -- Remaining: ?]"
      ]
     },
     "metadata": {},
     "output_type": "display_data"
    },
    {
     "data": {
      "text/plain": [
       "'COMPLETED Step 16: PBS - 3 (0:05:00)'"
      ]
     },
     "metadata": {},
     "output_type": "display_data"
    }
   ],
   "source": [
    "print('**Step 16: PBS - 3 (0:05:00)**') \n",
    "print('Duration is 5.0 minutes') \n",
    "countdown(df.Duration.iloc[0], df.Combined.iloc[0], df.Duration.iloc[0])"
   ]
  },
  {
   "cell_type": "code",
   "execution_count": 40,
   "metadata": {},
   "outputs": [
    {
     "name": "stdout",
     "output_type": "stream",
     "text": [
      "Matrix notification successful\n"
     ]
    }
   ],
   "source": [
    "send_matrix_message(f\"---- PROTOCOL COMPLETE at {current_datetime()} ---- <br><hr>\")"
   ]
  },
  {
   "cell_type": "code",
   "execution_count": 41,
   "metadata": {},
   "outputs": [],
   "source": [
    "#------ End of protocol ------# \n",
    " #When you have reached this point, you can delete all of the protocol steps which have been created, or simply close this file without saving"
   ]
  }
 ],
 "metadata": {
  "kernelspec": {
   "display_name": "Python 3",
   "language": "python",
   "name": "python3"
  },
  "language_info": {
   "codemirror_mode": {
    "name": "ipython",
    "version": 3
   },
   "file_extension": ".py",
   "mimetype": "text/x-python",
   "name": "python",
   "nbconvert_exporter": "python",
   "pygments_lexer": "ipython3",
   "version": "3.11.4"
  },
  "orig_nbformat": 4,
  "vscode": {
   "interpreter": {
    "hash": "764a882783e0d6ecd0dfdda9fcfe5b38a2ab4da3f0839cc15c8a5c5cb167a819"
   }
  }
 },
 "nbformat": 4,
 "nbformat_minor": 2
}
