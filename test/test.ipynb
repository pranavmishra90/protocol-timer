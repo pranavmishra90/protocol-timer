{
 "cells": [
  {
   "attachments": {},
   "cell_type": "markdown",
   "metadata": {},
   "source": [
    "# Testing the Protocol timer\n",
    "\n",
    "This is the protocol timer base. It uses a `.csv` source file to dynamically build a protocol. The steps are then sent to a self-hosted Matrix-based chatroom (closed source alternative: Discord) using an HTTP webhook. The protocol can be sequentially automatically by using the `Excecute cell and below` button on VSCode. If you need time to prepare between steps, you can use the `Execute Cell` button to start the timer for only a single step, advancing one step at a time."
   ]
  },
  {
   "attachments": {},
   "cell_type": "markdown",
   "metadata": {},
   "source": [
    "## Initialization"
   ]
  },
  {
   "attachments": {},
   "cell_type": "markdown",
   "metadata": {},
   "source": [
    "### Load Libraries"
   ]
  },
  {
   "cell_type": "code",
   "execution_count": null,
   "metadata": {},
   "outputs": [],
   "source": [
    "from IPython.core.getipython import get_ipython\n",
    "from IPython.display import display, Markdown, Latex\n",
    "import pandas as pd\n",
    "from time import time, sleep\n",
    "from tqdm.notebook import tqdm\n",
    "from tqdm import trange\n",
    "import datetime as date\n",
    "import requests\n",
    "import json\n",
    "import os\n",
    "import markdown\n",
    "import re\n",
    "\n",
    "# from tqdm.contrib.telegram import tqdm, trange\n",
    "from configparser import ConfigParser\n",
    "\n",
    "\n",
    "# from timer_functions import *"
   ]
  },
  {
   "cell_type": "code",
   "execution_count": null,
   "metadata": {},
   "outputs": [],
   "source": [
    "# Set the working directory based on local or github\n",
    "def get_git_root():\n",
    "    import subprocess\n",
    "    try:\n",
    "        # Set the directory as safe\n",
    "        subprocess.check_call(['git', 'config', '--global', '--add', 'safe.directory', \"/home/coder/work\"])\n",
    "        \n",
    "        git_root = subprocess.check_output(['git', 'rev-parse', '--show-toplevel'], stderr=subprocess.STDOUT)\n",
    "        return git_root.strip().decode('utf-8')\n",
    "    except subprocess.CalledProcessError:\n",
    "        return None\n",
    "    \n",
    "if os.getenv(\"GITHUB_WORKSPACE\"): \n",
    "    workspace_dir = os.getenv(\"GITHUB_WORKSPACE\")\n",
    "    os.chdir(workspace_dir)\n",
    "    print(f\"Changed directory to {os.getcwd()}\")\n",
    "\n",
    "else:\n",
    "    root_dir = get_git_root()\n",
    "    os.chdir(root_dir)\n",
    "\n",
    "print(f\"Current Directory: {os.getcwd()}\")"
   ]
  },
  {
   "cell_type": "code",
   "execution_count": null,
   "metadata": {},
   "outputs": [],
   "source": [
    "# Load the webhooks from a secrets file or from environment variables\n",
    "if os.getenv(\"TEST_WEBHOOK\"):\n",
    "\tprint(\"Using the test webhook\")\n",
    "\tmatrix_webhook_url = os.getenv(\"TEST_WEBHOOK\")\n",
    "\n",
    "elif os.path.exists(f\"{root_dir}/protocols/test-tokens.secrets\"):\n",
    "\tprint('Reading from token.secrets')\n",
    "\tparser = ConfigParser()\n",
    "\t_ = parser.read(f'{root_dir}/protocols/test-tokens.secrets')\n",
    "\tchannel_id = parser.get('discord', 'channel_id')\n",
    "\twebhook_url = parser.get('discord', 'webhook')\n",
    "\tmatrix_webhook_url = parser.get('matrix', 'webhook')\n",
    "\n",
    "elif os.getenv(\"MATRIX_WEBHOOK\"):\n",
    "\tmatrix_webhook_url = os.getenv(\"MATRIX_WEBHOOK\")\n",
    "\n",
    "elif os.getenv(\"DISCORD_WEBHOOK\"):\n",
    "\tchannel_id = os.getenv(\"CHANNEL_ID\")\n",
    "\twebhook_url = os.getenv(\"DISCORD_WEBHOOK\")\n",
    "\n",
    "else:\n",
    "\tprint(\"Error, no webhooks set\")\n",
    "\timport sys\n",
    "\tsys.exit(1)"
   ]
  },
  {
   "cell_type": "code",
   "execution_count": null,
   "metadata": {},
   "outputs": [],
   "source": [
    "# Adjust for timezone\n",
    "\n",
    "# America/Chicago == -6; -5 during DST\n",
    "timezone_offset = -5.0"
   ]
  },
  {
   "cell_type": "code",
   "execution_count": null,
   "metadata": {
    "notebookRunGroups": {
     "groupValue": "1"
    }
   },
   "outputs": [],
   "source": [
    "# Define functions used in this notebook\n",
    "def calculate_seconds(timestring):\n",
    "    time_obj = date.datetime.strptime(timestring, \"%H:%M:%S\")\n",
    "    hours = time_obj.hour\n",
    "    minutes = time_obj.minute\n",
    "    seconds = time_obj.second\n",
    "\n",
    "    # Calculate the total number of seconds\n",
    "    total_seconds = hours * 3600 + minutes * 60 + seconds\n",
    "\n",
    "    return total_seconds\n",
    "\n",
    "\n",
    "def step_commands(df, index_num):\n",
    "    line1 = f\"print('**{df.Combined.iloc[index_num]}**')\"\n",
    "    total_seconds = calculate_seconds(df.Duration.iloc[index_num])\n",
    "\n",
    "    line2 = f\"print('Duration is {round(total_seconds/60, 3)} minutes')\"\n",
    "\n",
    "    line3 = f\"countdown(df.Duration.iloc[{index_num}], df.Combined.iloc[{index_num}], df.Duration.iloc[{index_num}])\"\n",
    "\n",
    "    combined_lines = line1 + \" \\n\" + line2 + \" \\n\" + line3\n",
    "\n",
    "    return combined_lines\n",
    "\n",
    "def get_protocol_description(protocol_csv_path):\n",
    "    file_name = os.path.basename(protocol_csv_path)\n",
    "    file_name_without_extension = os.path.splitext(file_name)[0]\n",
    "\n",
    "    # Creating the description variable with \"md\" extension\n",
    "    description_path = os.path.join(os.path.dirname(protocol_csv_path), f'{file_name_without_extension}.md')\n",
    "\n",
    "    # Read the Markdown content from the file\n",
    "    with open(description_path, 'r', encoding='utf-8') as file:\n",
    "        markdown_content = file.read()\n",
    "\n",
    "    # Convert Markdown to HTML\n",
    "    html_content = markdown.markdown(markdown_content)\n",
    "\n",
    "    # Compress HTML into a single-line string\n",
    "    html_description = re.sub('\\s+', ' ', html_content).strip()\n",
    "\n",
    "    return html_description\n",
    "\n",
    "\n",
    "\n",
    "def countdown(timestring, step_text, duration):\n",
    "\n",
    "    # Display / send messages\n",
    "    display(f\"Starting {step_text}\") # to console\n",
    "    # send_discord_message(f\"Starting {step_text}.\") # Discord\n",
    "    send_matrix_protocol_step(step_text, duration) # Matrix\n",
    "\n",
    "\n",
    "\n",
    "\n",
    "    time_obj = date.datetime.strptime(timestring, \"%H:%M:%S\")\n",
    "\n",
    "    hours = time_obj.hour\n",
    "    minutes = time_obj.minute\n",
    "    seconds = time_obj.second\n",
    "\n",
    "    # Calculate the total number of seconds\n",
    "    total_seconds = hours * 3600 + minutes * 60 + seconds\n",
    "\n",
    "    # While loop that checks if total_seconds reaches zero\n",
    "    # If not zero, decrement total time by one second\n",
    "    total_seconds_original = total_seconds\n",
    "\n",
    "    pbar = tqdm(\n",
    "        # total=100,\n",
    "        total=total_seconds,\n",
    "        bar_format=\"{desc}   {percentage:3.0f}% [Elapsed: {elapsed} -- Remaining: {remaining}]\",\n",
    "    )\n",
    "    while total_seconds > 0:\n",
    "        # # Timer represents time left on countdown\n",
    "        timer = date.timedelta(seconds=total_seconds)\n",
    "\n",
    "        # print(timer, sep='\\r')\n",
    "\n",
    "        # Update the tqdm progress bar\n",
    "        # pbar.update(100 / total_seconds_original)\n",
    "\n",
    "        sleep(1)\n",
    "\n",
    "        total_seconds -= 1\n",
    "        pbar.update(1)\n",
    "\n",
    "    pbar.refresh()\n",
    "\n",
    "\n",
    "    # Display / Send completed messages\n",
    "    display(f\"COMPLETED {step_text}\")\n",
    "\n",
    "    # send_discord_message(f\"COMPLETED {step_text}.\") # Discord\n",
    "\n",
    "\n",
    "def compose_discord_json(message):\n",
    "    json_payload = {\n",
    "        \"content\": message,\n",
    "        \"username\": \"Protocol Timer\",\n",
    "        \"avatar_url\": \"https://raw.githubusercontent.com/github/explore/149e057770c384ddaba0393b369c2c8f16e433bb/topics/jupyter-notebook/jupyter-notebook.png\",\n",
    "        \"tts\": True,\n",
    "        \"embeds\": [\n",
    "            {\n",
    "                \"title\": \"Protocol Timer\",\n",
    "                \"type\": \"rich\",\n",
    "                \"timestamp\": date.datetime.utcnow().strftime(\"%Y-%m-%dT%H:%M:%SZ\"),\n",
    "                \"fields\": [\n",
    "                    {\n",
    "                        \"name\": \"Protocol Step\",\n",
    "                        \"value\": message,\n",
    "                    },\n",
    "                ],\n",
    "                \"footer\": {\n",
    "                    \"text\": \"Protocol-Timer created by Pranav Mishra (pranavmishra90/protocol-timer)\"\n",
    "                },\n",
    "            }\n",
    "        ],\n",
    "    }\n",
    "\n",
    "    return json_payload\n",
    "\n",
    "#### Matrix ####\n",
    "\n",
    "def compose_matrix_protocol_json(message, duration):\n",
    "    duration_parts = duration.split(\":\")\n",
    "    duration_var = date.timedelta(hours=int(duration_parts[0]), minutes=int(duration_parts[1]), seconds=int(duration_parts[2]))\n",
    "\n",
    "    tzinfo = date.timezone(date.timedelta(hours=timezone_offset))\n",
    "\n",
    "    current_datetime = date.datetime.now(tzinfo)\n",
    "    resulting_datetime = current_datetime + duration_var\n",
    "\n",
    "    step_end_time = resulting_datetime.strftime(\"%I:%M %p\")\n",
    "\n",
    "    json_payload = {\n",
    "        \"html\": f\"<h2>{message}</h2><b>Duration</b>: {duration}</br><b>End Time</b>: {step_end_time}\"\n",
    "    }\n",
    "    return json_payload\n",
    "\n",
    "\n",
    "\n",
    "def send_matrix_protocol_step(message, duration):\n",
    "    json_payload = compose_matrix_protocol_json(message, duration)\n",
    "    headers = {\"Content-Type\": \"application/json\"}\n",
    "\n",
    "    response = requests.post(\n",
    "        matrix_webhook_url, data=json.dumps(json_payload), headers=headers\n",
    "    )\n",
    "\n",
    "    if response.status_code == 202:\n",
    "        print(\"Matrix notification successful\")\n",
    "    else:\n",
    "        print(f\"Failed to notify on Matrix. Status code: {response.status_code}\")\n",
    "\n",
    "\n",
    "def compose_matrix_message_json(message):\n",
    "    json_payload = {\n",
    "        \"html\": f\"{message}\"\n",
    "    }\n",
    "    return json_payload\n",
    "\n",
    "def send_matrix_message(message):\n",
    "    json_payload = compose_matrix_message_json(message)\n",
    "    headers = {\"Content-Type\": \"application/json\"}\n",
    "\n",
    "    response = requests.post(\n",
    "        matrix_webhook_url, data=json.dumps(json_payload), headers=headers\n",
    "    )\n",
    "\n",
    "    if response.status_code == 202:\n",
    "        print(\"Matrix notification successful\")\n",
    "    else:\n",
    "        print(f\"Failed to notify on Matrix. Status code: {response.status_code}\")\n",
    "\n",
    "\n",
    "#### Discord ####\n",
    "\n",
    "def send_discord_message(message):\n",
    "    json_payload = compose_discord_json(message)\n",
    "\n",
    "    headers = {\"Content-Type\": \"application/json\"}\n",
    "\n",
    "    response = requests.post(\n",
    "        webhook_url, data=json.dumps(json_payload), headers=headers\n",
    "    )\n",
    "\n",
    "    if response.status_code == 204:\n",
    "        print(\"Discord notification successful!\")\n",
    "    else:\n",
    "        print(f\"Failed to notify on discord. Status code: {response.status_code}\")\n",
    "\n",
    "\n",
    "def current_datetime():\n",
    "    current_datetime = date.datetime.now()\n",
    "\n",
    "    # Format the datetime as \"Day, mm/dd/yy at hh:mm:ss AM/PM\"\n",
    "    formatted_datetime = current_datetime.strftime(\"%A, %m/%d/%y at %I:%M:%S %p\")\n",
    "\n",
    "    return formatted_datetime\n",
    "\n",
    "\n",
    "### Create a new cell in VSCode ###\n",
    "def create_new_cell(contents):\n",
    "    shell = get_ipython()\n",
    "\n",
    "    payload = dict(\n",
    "        source=\"set_next_input\",\n",
    "        text=contents,\n",
    "        replace=False,\n",
    "    )\n",
    "    shell.payload_manager.write_payload(payload, single=False)\n",
    "\n",
    "\n",
    "clear_chat_page = \"<i>(Clearing the page)</i>\" + \"<br>\" * 70"
   ]
  },
  {
   "attachments": {},
   "cell_type": "markdown",
   "metadata": {},
   "source": [
    "## Import the protocol and format the dataframe"
   ]
  },
  {
   "cell_type": "code",
   "execution_count": null,
   "metadata": {},
   "outputs": [],
   "source": [
    "protocol_csv_path = './test/test.csv' #'./histology/FFPE.csv' \n",
    "\n",
    "\n",
    "# Show the HTML Description file loaded\n",
    "html_description = get_protocol_description(protocol_csv_path)\n",
    "print(html_description)"
   ]
  },
  {
   "cell_type": "code",
   "execution_count": null,
   "metadata": {},
   "outputs": [],
   "source": [
    "df = pd.read_csv(protocol_csv_path)\n",
    "\n",
    "#flip the dataframe since a new \"step\" is always inserted immediately after the currently running one (new cells end up in reverse order)\n",
    "df = df.iloc[::-1].reset_index()\n",
    "df.drop(columns='index', inplace=True)\n",
    "\n",
    "df['Combined'] = \"Step \"+ df['Step Number'].astype(str) + \": \" + df['Step Text'].astype(str) + \" (\" + df['Duration'].astype(str) + \") <br>Description: \" + df['Description'] + \" <br>Comment: \" + df['Comment']\n",
    "\n",
    "df = df.astype({'Step Number': 'int', 'Step Text': 'string', 'Duration': 'string', 'Description': 'string', 'Comment': 'string', 'Combined':'string'})\n",
    "\n",
    "display(df)"
   ]
  },
  {
   "cell_type": "code",
   "execution_count": null,
   "metadata": {},
   "outputs": [],
   "source": [
    "# Calculate the total time and expected time of completion for the protocol\n",
    "\n",
    "# Create a new column with a timedelta format\n",
    "df['Timedelta'] = pd.to_timedelta(df['Duration'])\n",
    "\n",
    "total_duration = df['Timedelta'].sum()\n",
    "total_hours, remainder = divmod(total_duration.total_seconds(), 3600)\n",
    "total_minutes, total_seconds = divmod(remainder, 60)\n",
    "\n",
    "total_time_formatted = f\"{int(total_hours)}h:{int(total_minutes)}m:{int(total_seconds)}s\"\n",
    "\n",
    "# Calculate the expected time of completion\n",
    "expected_time_completion = date.datetime.now() + total_duration\n",
    "formatted_completion_time = expected_time_completion.strftime('%A at %I:%M %p')\n",
    "\n",
    "display(Markdown(f\"Total time to complete the protocol: {total_time_formatted}.<br>Expected time of completion: {formatted_completion_time}\"))"
   ]
  },
  {
   "attachments": {},
   "cell_type": "markdown",
   "metadata": {},
   "source": [
    "## Your Protocol\n",
    "**Instructions**\n",
    "A cell has been created for each step of your protocol according to the durations specified. When you \"run\" a cell, a progress bar will appear, with a timer for the elapsed time and a time remaining countdown.\n",
    "\n",
    "After the timer runs out, a completed message will be displayed.\n",
    "\n",
    "### Run the next cell *once*"
   ]
  },
  {
   "cell_type": "code",
   "execution_count": 20,
   "metadata": {},
   "outputs": [
    {
     "data": {
      "text/markdown": [
       "## Start the protocol\n",
       "**When you are ready to begin, run the cell below**"
      ],
      "text/plain": [
       "<IPython.core.display.Markdown object>"
      ]
     },
     "metadata": {},
     "output_type": "display_data"
    }
   ],
   "source": [
    "# create_new_cell(\"#------ End of protocol ------# \\n #When you have reached this point, you can delete all of the protocol steps which have been created, or simply close this file without saving\")\n",
    "\n",
    "# create_new_cell('send_matrix_message(f\"---- PROTOCOL COMPLETE at {current_datetime()} ---- <br><hr>\")')\n",
    "\n",
    "# for row in df.index:\n",
    "#     all_in_one = step_commands(df, row)\n",
    "    \n",
    "#     create_new_cell(all_in_one)\n",
    "\n",
    "# display(Markdown('## Start the protocol\\n**When you are ready to begin, run the cell below**'))\n",
    "\n",
    "# create_new_cell('send_matrix_message(f\"---- STARTING PROTOCOL at {current_datetime()} ---- <br>Total time to complete the protocol: {total_time_formatted}.<br>Expected time of completion: {formatted_completion_time}\")')\n",
    "\n",
    "# create_new_cell('send_matrix_message(f\"{html_description}\")')\n",
    "\n",
    "# create_new_cell('send_matrix_message(clear_chat_page)')\n",
    "\n",
    "# create_new_cell(\"#------ Click here, then run all of the cells below ------#\")"
   ]
  },
  {
   "cell_type": "code",
   "execution_count": null,
   "metadata": {},
   "outputs": [],
   "source": [
    "#------ Click here, then run all of the cells below ------#"
   ]
  },
  {
   "cell_type": "code",
   "execution_count": null,
   "metadata": {},
   "outputs": [],
   "source": [
    "send_matrix_message(clear_chat_page)"
   ]
  },
  {
   "cell_type": "code",
   "execution_count": null,
   "metadata": {},
   "outputs": [],
   "source": [
    "send_matrix_message(f\"{html_description}\")"
   ]
  },
  {
   "cell_type": "code",
   "execution_count": null,
   "metadata": {},
   "outputs": [],
   "source": [
    "send_matrix_message(f\"---- STARTING PROTOCOL at {current_datetime()} ---- <br>Total time to complete the protocol: {total_time_formatted}.<br>Expected time of completion: {formatted_completion_time}\")"
   ]
  },
  {
   "cell_type": "code",
   "execution_count": null,
   "metadata": {},
   "outputs": [],
   "source": [
    "print('**Step 1: 75% Ethanol (0:00:05)**') \n",
    "print('Duration is 0.083 minutes') \n",
    "countdown(df.Duration.iloc[3], df.Combined.iloc[3], df.Duration.iloc[3])"
   ]
  },
  {
   "cell_type": "code",
   "execution_count": null,
   "metadata": {},
   "outputs": [],
   "source": [
    "print('**Step 2: 80% Ethanol (0:00:05)**') \n",
    "print('Duration is 0.083 minutes') \n",
    "countdown(df.Duration.iloc[2], df.Combined.iloc[2], df.Duration.iloc[2])"
   ]
  },
  {
   "cell_type": "code",
   "execution_count": null,
   "metadata": {},
   "outputs": [],
   "source": [
    "print('**Step 3: 95% Ethanol - 1 (0:00:05)**') \n",
    "print('Duration is 0.083 minutes') \n",
    "countdown(df.Duration.iloc[1], df.Combined.iloc[1], df.Duration.iloc[1])"
   ]
  },
  {
   "cell_type": "code",
   "execution_count": null,
   "metadata": {},
   "outputs": [],
   "source": [
    "print('**Step 4: 95% Ethanol - 2 (0:00:05)**') \n",
    "print('Duration is 0.083 minutes') \n",
    "countdown(df.Duration.iloc[0], df.Combined.iloc[0], df.Duration.iloc[0])"
   ]
  },
  {
   "cell_type": "code",
   "execution_count": null,
   "metadata": {},
   "outputs": [],
   "source": [
    "send_matrix_message(f\"---- PROTOCOL COMPLETE at {current_datetime()} ---- <br><hr>\")"
   ]
  },
  {
   "cell_type": "code",
   "execution_count": null,
   "metadata": {},
   "outputs": [],
   "source": [
    "#------ End of protocol ------# \n",
    " #When you have reached this point, you can delete all of the protocol steps which have been created, or simply close this file without saving"
   ]
  }
 ],
 "metadata": {
  "kernelspec": {
   "display_name": "Python 3",
   "language": "python",
   "name": "python3"
  },
  "language_info": {
   "codemirror_mode": {
    "name": "ipython",
    "version": 3
   },
   "file_extension": ".py",
   "mimetype": "text/x-python",
   "name": "python",
   "nbconvert_exporter": "python",
   "pygments_lexer": "ipython3",
   "version": "3.11.9"
  },
  "orig_nbformat": 4,
  "vscode": {
   "interpreter": {
    "hash": "764a882783e0d6ecd0dfdda9fcfe5b38a2ab4da3f0839cc15c8a5c5cb167a819"
   }
  }
 },
 "nbformat": 4,
 "nbformat_minor": 2
}
