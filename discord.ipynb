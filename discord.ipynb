{
 "cells": [
  {
   "cell_type": "code",
   "execution_count": 8,
   "metadata": {},
   "outputs": [],
   "source": [
    "import discord\n",
    "from discord.ext import commands\n",
    "from configparser import ConfigParser\n",
    "import requests\n",
    "import json\n"
   ]
  },
  {
   "cell_type": "code",
   "execution_count": 9,
   "metadata": {},
   "outputs": [],
   "source": [
    "parser = ConfigParser()\n",
    "\n",
    "_ = parser.read('token.secrets')\n",
    "\n",
    "api_token = parser.get('discord', 'bot_token')\n",
    "\n",
    "channel_id = parser.get('discord', 'channel_id')\n",
    "\n",
    "webhook_url = parser.get('discord', 'webhook')\n"
   ]
  },
  {
   "cell_type": "code",
   "execution_count": 10,
   "metadata": {},
   "outputs": [],
   "source": [
    "# # Initialize bot\n",
    "# bot = commands.Bot(command_prefix=\"testbot\")  # Replace \"!\" with your desired bot command prefix\n",
    "\n",
    "# # Event: Bot is ready\n",
    "# @bot.event\n",
    "# async def on_ready():\n",
    "#     print(f\"Logged in as {bot.user.name} ({bot.user.id})\")\n",
    "\n",
    "# # Command: Send message to a specific channel\n",
    "# @bot.command()\n",
    "# async def send_message(ctx, channel_id: int, message: str):\n",
    "#     channel = bot.get_channel(channel_id)\n",
    "#     await channel.send(message)\n",
    "\n",
    "# # Run the bot\n",
    "# bot.run(api_token)  # Replace \"YOUR_BOT_TOKEN\" with the token you copied\n"
   ]
  },
  {
   "cell_type": "code",
   "execution_count": 11,
   "metadata": {},
   "outputs": [
    {
     "name": "stdout",
     "output_type": "stream",
     "text": [
      "Message sent successfully!\n"
     ]
    }
   ],
   "source": [
    "def send_discord_message(content):\n",
    "    payload = {\n",
    "        \"content\": content\n",
    "    }\n",
    "    headers = {\n",
    "        \"Content-Type\": \"application/json\"\n",
    "    }\n",
    "\n",
    "    response = requests.post(webhook_url, data=json.dumps(payload), headers=headers)\n",
    "\n",
    "    if response.status_code == 204:\n",
    "        print(\"Message sent successfully!\")\n",
    "    else:\n",
    "        print(f\"Failed to send message. Status code: {response.status_code}\")\n",
    "\n",
    "# Example usage\n",
    "message_content = \"Hello, Discord!\"\n",
    "send_discord_message(message_content)"
   ]
  }
 ],
 "metadata": {
  "kernelspec": {
   "display_name": "Python 3",
   "language": "python",
   "name": "python3"
  },
  "language_info": {
   "codemirror_mode": {
    "name": "ipython",
    "version": 3
   },
   "file_extension": ".py",
   "mimetype": "text/x-python",
   "name": "python",
   "nbconvert_exporter": "python",
   "pygments_lexer": "ipython3",
   "version": "3.11.4"
  },
  "orig_nbformat": 4
 },
 "nbformat": 4,
 "nbformat_minor": 2
}
